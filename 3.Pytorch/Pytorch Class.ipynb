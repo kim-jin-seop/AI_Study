{
 "cells": [
  {
   "cell_type": "code",
   "execution_count": 1,
   "id": "c16a8c41",
   "metadata": {},
   "outputs": [],
   "source": [
    "import torch\n",
    "import torch.nn as nn\n",
    "import torch.nn.functional as F"
   ]
  },
  {
   "cell_type": "code",
   "execution_count": 2,
   "id": "daf46384",
   "metadata": {},
   "outputs": [],
   "source": [
    "class LinearRegressionModel(nn.Module):\n",
    "    def __init__(self):\n",
    "        super().__init__()\n",
    "        self.linear = nn.Linear(1, 1)\n",
    "        \n",
    "    def forward(self, x):\n",
    "        return self.linear(x)"
   ]
  },
  {
   "cell_type": "code",
   "execution_count": 3,
   "id": "019e46c1",
   "metadata": {},
   "outputs": [],
   "source": [
    "model = LinearRegressionModel()"
   ]
  },
  {
   "cell_type": "code",
   "execution_count": 4,
   "id": "749426e4",
   "metadata": {},
   "outputs": [],
   "source": [
    "x_train = torch.FloatTensor([[1], [2], [3]])\n",
    "y_train = torch.FloatTensor([[2], [4], [6]])"
   ]
  },
  {
   "cell_type": "code",
   "execution_count": 5,
   "id": "3e118150",
   "metadata": {},
   "outputs": [],
   "source": [
    "optimizer = torch.optim.SGD(model.parameters(), lr=0.01) "
   ]
  },
  {
   "cell_type": "code",
   "execution_count": 6,
   "id": "43e882e2",
   "metadata": {},
   "outputs": [
    {
     "name": "stdout",
     "output_type": "stream",
     "text": [
      "Epoch    0/2000 Cost: 37.213333\n",
      "Epoch  100/2000 Cost: 0.057284\n",
      "Epoch  200/2000 Cost: 0.035398\n",
      "Epoch  300/2000 Cost: 0.021874\n",
      "Epoch  400/2000 Cost: 0.013517\n",
      "Epoch  500/2000 Cost: 0.008352\n",
      "Epoch  600/2000 Cost: 0.005161\n",
      "Epoch  700/2000 Cost: 0.003189\n",
      "Epoch  800/2000 Cost: 0.001971\n",
      "Epoch  900/2000 Cost: 0.001218\n",
      "Epoch 1000/2000 Cost: 0.000753\n",
      "Epoch 1100/2000 Cost: 0.000465\n",
      "Epoch 1200/2000 Cost: 0.000287\n",
      "Epoch 1300/2000 Cost: 0.000178\n",
      "Epoch 1400/2000 Cost: 0.000110\n",
      "Epoch 1500/2000 Cost: 0.000068\n",
      "Epoch 1600/2000 Cost: 0.000042\n",
      "Epoch 1700/2000 Cost: 0.000026\n",
      "Epoch 1800/2000 Cost: 0.000016\n",
      "Epoch 1900/2000 Cost: 0.000010\n",
      "Epoch 2000/2000 Cost: 0.000006\n"
     ]
    }
   ],
   "source": [
    "nb_epochs = 2000\n",
    "for epoch in range(nb_epochs + 1):\n",
    "    prediction = model(x_train)\n",
    "    cost = F.mse_loss(prediction, y_train)\n",
    "    \n",
    "    optimizer.zero_grad()\n",
    "    cost.backward()\n",
    "    optimizer.step()\n",
    "    \n",
    "    if epoch % 100 == 0:\n",
    "        print('Epoch {:4d}/{} Cost: {:.6f}'.format(epoch, nb_epochs, \n",
    "                                                   cost.item()))"
   ]
  },
  {
   "cell_type": "markdown",
   "id": "7c814f45",
   "metadata": {},
   "source": [
    "## 다중 선형회귀분석"
   ]
  },
  {
   "cell_type": "code",
   "execution_count": 7,
   "id": "2fb5683d",
   "metadata": {},
   "outputs": [],
   "source": [
    "import torch\n",
    "import torch.nn as nn\n",
    "import torch.nn.functional as F"
   ]
  },
  {
   "cell_type": "code",
   "execution_count": 8,
   "id": "84e12219",
   "metadata": {},
   "outputs": [],
   "source": [
    "x_train = torch.FloatTensor([[73, 80, 75],\n",
    "                             [93, 88, 93],\n",
    "                             [89, 91, 90],\n",
    "                             [96, 98, 100],\n",
    "                             [73, 66, 70]])\n",
    "y_train = torch.FloatTensor([[152], [185], [180], [196], [142]])"
   ]
  },
  {
   "cell_type": "code",
   "execution_count": 9,
   "id": "2d1eda14",
   "metadata": {},
   "outputs": [],
   "source": [
    "class MultivariateLinearRegressionModel(nn.Module):\n",
    "    def __init__(self):\n",
    "        super().__init__()\n",
    "        self.linear = nn.Linear(3,1)\n",
    "    \n",
    "    def forward(self, x):\n",
    "        return self.linear(x)"
   ]
  },
  {
   "cell_type": "code",
   "execution_count": 10,
   "id": "439a7e94",
   "metadata": {},
   "outputs": [],
   "source": [
    "model = MultivariateLinearRegressionModel()"
   ]
  },
  {
   "cell_type": "code",
   "execution_count": 11,
   "id": "d3cbdb0b",
   "metadata": {},
   "outputs": [],
   "source": [
    "optimizer = torch.optim.SGD(model.parameters(), lr = 1e-5)"
   ]
  },
  {
   "cell_type": "code",
   "execution_count": 12,
   "id": "b984707c",
   "metadata": {},
   "outputs": [
    {
     "name": "stdout",
     "output_type": "stream",
     "text": [
      "Epoch 0/2000 : 13809.431640625\n",
      "Epoch 100/2000 : 5.259769916534424\n",
      "Epoch 200/2000 : 5.022965431213379\n",
      "Epoch 300/2000 : 4.798475742340088\n",
      "Epoch 400/2000 : 4.585698127746582\n",
      "Epoch 500/2000 : 4.383962154388428\n",
      "Epoch 600/2000 : 4.19271993637085\n",
      "Epoch 700/2000 : 4.011415004730225\n",
      "Epoch 800/2000 : 3.8395228385925293\n",
      "Epoch 900/2000 : 3.6765358448028564\n",
      "Epoch 1000/2000 : 3.521996021270752\n",
      "Epoch 1100/2000 : 3.3754687309265137\n",
      "Epoch 1200/2000 : 3.2365386486053467\n",
      "Epoch 1300/2000 : 3.104774236679077\n",
      "Epoch 1400/2000 : 2.9797887802124023\n",
      "Epoch 1500/2000 : 2.861259937286377\n",
      "Epoch 1600/2000 : 2.7488768100738525\n",
      "Epoch 1700/2000 : 2.6422481536865234\n",
      "Epoch 1800/2000 : 2.541107654571533\n",
      "Epoch 1900/2000 : 2.4451494216918945\n",
      "Epoch 2000/2000 : 2.354104518890381\n"
     ]
    }
   ],
   "source": [
    "nb_epochs = 2000\n",
    "for epoch in range(nb_epochs+1):\n",
    "    prediction = model(x_train)\n",
    "    cost = F.mse_loss(prediction, y_train)\n",
    "    \n",
    "    optimizer.zero_grad()\n",
    "    cost.backward()\n",
    "    optimizer.step()\n",
    "    \n",
    "    if epoch % 100 == 0 :\n",
    "        print('Epoch {}/{} : {}'.format(epoch,nb_epochs,\n",
    "                                       cost.item()))"
   ]
  },
  {
   "cell_type": "code",
   "execution_count": null,
   "id": "3e6a4d7e",
   "metadata": {},
   "outputs": [],
   "source": []
  }
 ],
 "metadata": {
  "kernelspec": {
   "display_name": "Python 3 (ipykernel)",
   "language": "python",
   "name": "python3"
  },
  "language_info": {
   "codemirror_mode": {
    "name": "ipython",
    "version": 3
   },
   "file_extension": ".py",
   "mimetype": "text/x-python",
   "name": "python",
   "nbconvert_exporter": "python",
   "pygments_lexer": "ipython3",
   "version": "3.9.12"
  }
 },
 "nbformat": 4,
 "nbformat_minor": 5
}
