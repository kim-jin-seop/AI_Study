{
 "cells": [
  {
   "cell_type": "code",
   "execution_count": 1,
   "id": "bd048b09",
   "metadata": {},
   "outputs": [],
   "source": [
    "import torch\n",
    "import torch.nn as nn\n",
    "import torch.nn.functional as F"
   ]
  },
  {
   "cell_type": "code",
   "execution_count": 2,
   "id": "1242c914",
   "metadata": {},
   "outputs": [],
   "source": [
    "X_train = torch.FloatTensor([[1], [2], [3]])\n",
    "y_train = torch.FloatTensor([[2], [4], [6]])"
   ]
  },
  {
   "cell_type": "code",
   "execution_count": 3,
   "id": "3a72f083",
   "metadata": {},
   "outputs": [],
   "source": [
    "model = nn.Linear(1,1) # input dim, output dim"
   ]
  },
  {
   "cell_type": "code",
   "execution_count": 4,
   "id": "aa8e2c73",
   "metadata": {},
   "outputs": [],
   "source": [
    "optimizer = torch.optim.SGD(model.parameters(), lr=0.01) "
   ]
  },
  {
   "cell_type": "code",
   "execution_count": 5,
   "id": "925c80f6",
   "metadata": {},
   "outputs": [
    {
     "name": "stdout",
     "output_type": "stream",
     "text": [
      "Epoch    0/2000 Cost: 9.427197\n",
      "Epoch  100/2000 Cost: 0.007141\n",
      "Epoch  200/2000 Cost: 0.004413\n",
      "Epoch  300/2000 Cost: 0.002727\n",
      "Epoch  400/2000 Cost: 0.001685\n",
      "Epoch  500/2000 Cost: 0.001041\n",
      "Epoch  600/2000 Cost: 0.000643\n",
      "Epoch  700/2000 Cost: 0.000398\n",
      "Epoch  800/2000 Cost: 0.000246\n",
      "Epoch  900/2000 Cost: 0.000152\n",
      "Epoch 1000/2000 Cost: 0.000094\n",
      "Epoch 1100/2000 Cost: 0.000058\n",
      "Epoch 1200/2000 Cost: 0.000036\n",
      "Epoch 1300/2000 Cost: 0.000022\n",
      "Epoch 1400/2000 Cost: 0.000014\n",
      "Epoch 1500/2000 Cost: 0.000008\n",
      "Epoch 1600/2000 Cost: 0.000005\n",
      "Epoch 1700/2000 Cost: 0.000003\n",
      "Epoch 1800/2000 Cost: 0.000002\n",
      "Epoch 1900/2000 Cost: 0.000001\n",
      "Epoch 2000/2000 Cost: 0.000001\n"
     ]
    }
   ],
   "source": [
    "nb_epochs = 2000\n",
    "for epoch in range(nb_epochs+1):\n",
    "    prediction = model(X_train)\n",
    "    \n",
    "    cost = F.mse_loss(prediction, y_train)\n",
    "    \n",
    "    optimizer.zero_grad()\n",
    "    cost.backward()\n",
    "    optimizer.step()\n",
    "    \n",
    "    if epoch % 100 == 0:\n",
    "    # 100번마다 로그 출력\n",
    "      print('Epoch {:4d}/{} Cost: {:.6f}'.format(\n",
    "          epoch, nb_epochs, cost.item()\n",
    "      ))"
   ]
  },
  {
   "cell_type": "code",
   "execution_count": 6,
   "id": "be47082b",
   "metadata": {},
   "outputs": [
    {
     "name": "stdout",
     "output_type": "stream",
     "text": [
      "tensor([[8.0018]], grad_fn=<AddmmBackward0>)\n"
     ]
    }
   ],
   "source": [
    "new_var =  torch.FloatTensor([[4.0]]) \n",
    "pred_y = model(new_var)\n",
    "print(pred_y)"
   ]
  },
  {
   "cell_type": "code",
   "execution_count": 7,
   "id": "579bc0ed",
   "metadata": {},
   "outputs": [
    {
     "name": "stdout",
     "output_type": "stream",
     "text": [
      "[Parameter containing:\n",
      "tensor([[2.0010]], requires_grad=True), Parameter containing:\n",
      "tensor([-0.0023], requires_grad=True)]\n"
     ]
    }
   ],
   "source": [
    "print(list(model.parameters()))"
   ]
  },
  {
   "cell_type": "markdown",
   "id": "25b1bf29",
   "metadata": {},
   "source": [
    "## 다중선형회귀"
   ]
  },
  {
   "cell_type": "code",
   "execution_count": 8,
   "id": "b9f8f02f",
   "metadata": {},
   "outputs": [],
   "source": [
    "X_train = torch.FloatTensor([[73, 80, 75],\n",
    "                             [93, 88, 93],\n",
    "                             [89, 91, 90],\n",
    "                             [96, 98, 100],\n",
    "                             [73, 66, 70]])\n",
    "y_train = torch.FloatTensor([[152], [185], [180], [196], [142]])"
   ]
  },
  {
   "cell_type": "code",
   "execution_count": 9,
   "id": "aea7ca1b",
   "metadata": {},
   "outputs": [],
   "source": [
    "model = nn.Linear(3,1)"
   ]
  },
  {
   "cell_type": "code",
   "execution_count": 10,
   "id": "d04aa3c1",
   "metadata": {},
   "outputs": [],
   "source": [
    "optimizer = torch.optim.SGD(model.parameters(),lr = 1e-5)"
   ]
  },
  {
   "cell_type": "code",
   "execution_count": 11,
   "id": "c7091dee",
   "metadata": {},
   "outputs": [
    {
     "name": "stdout",
     "output_type": "stream",
     "text": [
      "Epoch    0/2000 Cost: 22584.841797\n",
      "Epoch  100/2000 Cost: 0.840386\n",
      "Epoch  200/2000 Cost: 0.806277\n",
      "Epoch  300/2000 Cost: 0.773955\n",
      "Epoch  400/2000 Cost: 0.743331\n",
      "Epoch  500/2000 Cost: 0.714319\n",
      "Epoch  600/2000 Cost: 0.686823\n",
      "Epoch  700/2000 Cost: 0.660761\n",
      "Epoch  800/2000 Cost: 0.636061\n",
      "Epoch  900/2000 Cost: 0.612671\n",
      "Epoch 1000/2000 Cost: 0.590487\n",
      "Epoch 1100/2000 Cost: 0.569477\n",
      "Epoch 1200/2000 Cost: 0.549559\n",
      "Epoch 1300/2000 Cost: 0.530682\n",
      "Epoch 1400/2000 Cost: 0.512793\n",
      "Epoch 1500/2000 Cost: 0.495839\n",
      "Epoch 1600/2000 Cost: 0.479769\n",
      "Epoch 1700/2000 Cost: 0.464530\n",
      "Epoch 1800/2000 Cost: 0.450107\n",
      "Epoch 1900/2000 Cost: 0.436419\n",
      "Epoch 2000/2000 Cost: 0.423448\n"
     ]
    }
   ],
   "source": [
    "nb_epochs = 2000\n",
    "for epoch in range(nb_epochs+1):\n",
    "    prediction = model(X_train)\n",
    "    cost = F.mse_loss(prediction, y_train)\n",
    "    \n",
    "    optimizer.zero_grad()\n",
    "    cost.backward()\n",
    "    optimizer.step()\n",
    "    \n",
    "    if epoch % 100 == 0:\n",
    "    # 100번마다 로그 출력\n",
    "      print('Epoch {:4d}/{} Cost: {:.6f}'.format(\n",
    "          epoch, nb_epochs, cost.item()\n",
    "      ))"
   ]
  },
  {
   "cell_type": "code",
   "execution_count": 12,
   "id": "b9fff0df",
   "metadata": {},
   "outputs": [
    {
     "name": "stdout",
     "output_type": "stream",
     "text": [
      "[Parameter containing:\n",
      "tensor([[1.0463, 0.6626, 0.3008]], requires_grad=True), Parameter containing:\n",
      "tensor([0.4789], requires_grad=True)]\n"
     ]
    }
   ],
   "source": [
    "print(list(model.parameters()))"
   ]
  },
  {
   "cell_type": "code",
   "execution_count": null,
   "id": "7af7bfe8",
   "metadata": {},
   "outputs": [],
   "source": []
  }
 ],
 "metadata": {
  "kernelspec": {
   "display_name": "Python 3 (ipykernel)",
   "language": "python",
   "name": "python3"
  },
  "language_info": {
   "codemirror_mode": {
    "name": "ipython",
    "version": 3
   },
   "file_extension": ".py",
   "mimetype": "text/x-python",
   "name": "python",
   "nbconvert_exporter": "python",
   "pygments_lexer": "ipython3",
   "version": "3.9.12"
  }
 },
 "nbformat": 4,
 "nbformat_minor": 5
}
