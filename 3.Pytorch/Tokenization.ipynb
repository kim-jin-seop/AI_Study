{
 "cells": [
  {
   "cell_type": "code",
   "execution_count": 27,
   "id": "6865eebb",
   "metadata": {},
   "outputs": [],
   "source": [
    "en_text = \"A Dog Run back corner near spare bedrooms\""
   ]
  },
  {
   "cell_type": "code",
   "execution_count": 9,
   "id": "67c387d9",
   "metadata": {},
   "outputs": [],
   "source": [
    "import spacy\n",
    "spacy_en = spacy.load('en_core_web_sm')"
   ]
  },
  {
   "cell_type": "code",
   "execution_count": 14,
   "id": "1b9e8ef4-f21f-436d-a418-e39fd9535a00",
   "metadata": {},
   "outputs": [],
   "source": [
    "def tokenize(en_text):\n",
    "    return [tok.text for tok in spacy_en.tokenizer(en_text)]"
   ]
  },
  {
   "cell_type": "code",
   "execution_count": 15,
   "id": "8ac2410e-eab0-430d-b234-7f05f40e6e72",
   "metadata": {},
   "outputs": [
    {
     "name": "stdout",
     "output_type": "stream",
     "text": [
      "['A', 'Dog', 'Run', 'back', 'corner', 'near', 'spare', 'bedrooms']\n"
     ]
    }
   ],
   "source": [
    "print(tokenize(en_text))"
   ]
  },
  {
   "cell_type": "code",
   "execution_count": 16,
   "id": "11ef52f7-af55-4707-a84f-9eeba90cf3b3",
   "metadata": {},
   "outputs": [
    {
     "name": "stdout",
     "output_type": "stream",
     "text": [
      "Requirement already satisfied: nltk in c:\\users\\mllab_808\\anaconda3\\lib\\site-packages (3.7)\n",
      "Requirement already satisfied: joblib in c:\\users\\mllab_808\\anaconda3\\lib\\site-packages (from nltk) (1.1.0)\n",
      "Requirement already satisfied: regex>=2021.8.3 in c:\\users\\mllab_808\\anaconda3\\lib\\site-packages (from nltk) (2022.3.15)\n",
      "Requirement already satisfied: click in c:\\users\\mllab_808\\anaconda3\\lib\\site-packages (from nltk) (8.0.4)\n",
      "Requirement already satisfied: tqdm in c:\\users\\mllab_808\\anaconda3\\lib\\site-packages (from nltk) (4.64.0)\n",
      "Requirement already satisfied: colorama in c:\\users\\mllab_808\\anaconda3\\lib\\site-packages (from click->nltk) (0.4.4)\n"
     ]
    }
   ],
   "source": [
    "!pip install nltk"
   ]
  },
  {
   "cell_type": "code",
   "execution_count": 17,
   "id": "279919fb-60ff-451a-9064-36ae54b6d87a",
   "metadata": {},
   "outputs": [
    {
     "name": "stderr",
     "output_type": "stream",
     "text": [
      "[nltk_data] Downloading package punkt to\n",
      "[nltk_data]     C:\\Users\\mllab_808\\AppData\\Roaming\\nltk_data...\n",
      "[nltk_data]   Unzipping tokenizers\\punkt.zip.\n"
     ]
    },
    {
     "data": {
      "text/plain": [
       "True"
      ]
     },
     "execution_count": 17,
     "metadata": {},
     "output_type": "execute_result"
    }
   ],
   "source": [
    "import nltk\n",
    "nltk.download('punkt')"
   ]
  },
  {
   "cell_type": "code",
   "execution_count": 18,
   "id": "38890e7c-0e41-4b90-a1ca-eb1a4601f2bd",
   "metadata": {},
   "outputs": [
    {
     "name": "stdout",
     "output_type": "stream",
     "text": [
      "['A', 'Dog', 'Run', 'back', 'corner', 'near', 'spare', 'bedrooms']\n"
     ]
    }
   ],
   "source": [
    "from nltk.tokenize import word_tokenize\n",
    "print(word_tokenize(en_text))"
   ]
  },
  {
   "cell_type": "code",
   "execution_count": 19,
   "id": "db37f026-4acb-4222-ac74-f824f084e67f",
   "metadata": {},
   "outputs": [
    {
     "name": "stdout",
     "output_type": "stream",
     "text": [
      "['A', 'Dog', 'Run', 'back', 'corner', 'near', 'spare', 'bedrooms', 'Dog']\n"
     ]
    }
   ],
   "source": [
    "print(en_text.split())"
   ]
  },
  {
   "cell_type": "code",
   "execution_count": 23,
   "id": "ce6aeacf-1e06-48ac-b882-4ab263d5987a",
   "metadata": {},
   "outputs": [],
   "source": [
    "kor_text = \"사과의 놀라운 효능이라는 글을 봤어. 그래서 오늘 사과를 먹으려고 했는데 사과가 썩어서 슈퍼에 가서 사과랑 오렌지 사왔어\""
   ]
  },
  {
   "cell_type": "code",
   "execution_count": 24,
   "id": "7fd8a360-70c8-4c81-99b1-765e637a5093",
   "metadata": {},
   "outputs": [
    {
     "name": "stdout",
     "output_type": "stream",
     "text": [
      "['사과의', '놀라운', '효능이라는', '글을', '봤어.', '그래서', '오늘', '사과를', '먹으려고', '했는데', '사과가', '썩어서', '슈퍼에', '가서', '사과랑', '오렌지', '사왔어']\n"
     ]
    }
   ],
   "source": [
    "print(kor_text.split())"
   ]
  },
  {
   "cell_type": "code",
   "execution_count": 28,
   "id": "8c68a144-d88c-483c-9b05-02f61afe7812",
   "metadata": {},
   "outputs": [
    {
     "name": "stderr",
     "output_type": "stream",
     "text": [
      "'git'은(는) 내부 또는 외부 명령, 실행할 수 있는 프로그램, 또는\n",
      "배치 파일이 아닙니다.\n"
     ]
    }
   ],
   "source": [
    "!git clone https://github.com/SOMJANG/Mecab-ko-for-Google-Colab.git"
   ]
  },
  {
   "cell_type": "code",
   "execution_count": 29,
   "id": "d83c9347-a4d0-4b3d-98dc-3ddf77e5a346",
   "metadata": {},
   "outputs": [
    {
     "name": "stderr",
     "output_type": "stream",
     "text": [
      "'git'은(는) 내부 또는 외부 명령, 실행할 수 있는 프로그램, 또는\n",
      "배치 파일이 아닙니다.\n"
     ]
    }
   ],
   "source": [
    "!git clone https://github.com/SOMJANG/Mecab-ko-for-Google-Colab.git"
   ]
  },
  {
   "cell_type": "code",
   "execution_count": 35,
   "id": "2f853414-8fdb-4cde-b99b-5ba0a3cb1e53",
   "metadata": {},
   "outputs": [
    {
     "name": "stdout",
     "output_type": "stream",
     "text": [
      "['A', ' ', 'D', 'o', 'g', ' ', 'R', 'u', 'n', ' ', 'b', 'a', 'c', 'k', ' ', 'c', 'o', 'r', 'n', 'e', 'r', ' ', 'n', 'e', 'a', 'r', ' ', 's', 'p', 'a', 'r', 'e', ' ', 'b', 'e', 'd', 'r', 'o', 'o', 'm', 's']\n"
     ]
    }
   ],
   "source": [
    "print(list(en_text))"
   ]
  },
  {
   "cell_type": "code",
   "execution_count": 1,
   "id": "d557afb1-0d62-41e2-bd3c-c966bbe17150",
   "metadata": {},
   "outputs": [
    {
     "name": "stdout",
     "output_type": "stream",
     "text": [
      "Collecting eunjeon"
     ]
    },
    {
     "name": "stderr",
     "output_type": "stream",
     "text": [
      "  ERROR: Command errored out with exit status 1:\n",
      "   command: 'C:\\Users\\mllab_808\\anaconda3\\python.exe' -u -c 'import io, os, sys, setuptools, tokenize; sys.argv[0] = '\"'\"'C:\\\\Users\\\\mllab_808\\\\AppData\\\\Local\\\\Temp\\\\pip-install-9duik195\\\\eunjeon_faa4635feb594322be7770d4676bcb94\\\\setup.py'\"'\"'; __file__='\"'\"'C:\\\\Users\\\\mllab_808\\\\AppData\\\\Local\\\\Temp\\\\pip-install-9duik195\\\\eunjeon_faa4635feb594322be7770d4676bcb94\\\\setup.py'\"'\"';f = getattr(tokenize, '\"'\"'open'\"'\"', open)(__file__) if os.path.exists(__file__) else io.StringIO('\"'\"'from setuptools import setup; setup()'\"'\"');code = f.read().replace('\"'\"'\\r\\n'\"'\"', '\"'\"'\\n'\"'\"');f.close();exec(compile(code, __file__, '\"'\"'exec'\"'\"'))' bdist_wheel -d 'C:\\Users\\mllab_808\\AppData\\Local\\Temp\\pip-wheel-9fif7kva'\n",
      "       cwd: C:\\Users\\mllab_808\\AppData\\Local\\Temp\\pip-install-9duik195\\eunjeon_faa4635feb594322be7770d4676bcb94\\\n",
      "  Complete output (44 lines):\n",
      "  running bdist_wheel\n",
      "  running build\n",
      "  running build_py\n",
      "  creating build\n",
      "  creating build\\lib.win-amd64-3.9\n",
      "  creating build\\lib.win-amd64-3.9\\eunjeon\n",
      "  copying eunjeon\\constants.py -> build\\lib.win-amd64-3.9\\eunjeon\n",
      "  copying eunjeon\\mecab.py -> build\\lib.win-amd64-3.9\\eunjeon\n",
      "  copying eunjeon\\_mecab.py -> build\\lib.win-amd64-3.9\\eunjeon\n",
      "  copying eunjeon\\__init__.py -> build\\lib.win-amd64-3.9\\eunjeon\n",
      "  creating build\\lib.win-amd64-3.9\\eunjeon\\data\n",
      "  copying eunjeon\\data\\char.bin -> build\\lib.win-amd64-3.9\\eunjeon\\data\n",
      "  copying eunjeon\\data\\matrix.bin -> build\\lib.win-amd64-3.9\\eunjeon\\data\n",
      "  copying eunjeon\\data\\model.bin -> build\\lib.win-amd64-3.9\\eunjeon\\data\n",
      "  copying eunjeon\\data\\char.def -> build\\lib.win-amd64-3.9\\eunjeon\\data\n",
      "  copying eunjeon\\data\\feature.def -> build\\lib.win-amd64-3.9\\eunjeon\\data\n",
      "  copying eunjeon\\data\\left-id.def -> build\\lib.win-amd64-3.9\\eunjeon\\data\n",
      "  copying eunjeon\\data\\pos-id.def -> build\\lib.win-amd64-3.9\\eunjeon\\data\n",
      "  copying eunjeon\\data\\rewrite.def -> build\\lib.win-amd64-3.9\\eunjeon\\data\n",
      "  copying eunjeon\\data\\right-id.def -> build\\lib.win-amd64-3.9\\eunjeon\\data\n",
      "  copying eunjeon\\data\\unk.def -> build\\lib.win-amd64-3.9\\eunjeon\\data\n",
      "  copying eunjeon\\data\\sys.dic -> build\\lib.win-amd64-3.9\\eunjeon\\data\n",
      "  copying eunjeon\\data\\unk.dic -> build\\lib.win-amd64-3.9\\eunjeon\\data\n",
      "  copying eunjeon\\data\\dicrc -> build\\lib.win-amd64-3.9\\eunjeon\\data\n",
      "  copying eunjeon\\data\\mecabrc -> build\\lib.win-amd64-3.9\\eunjeon\\data\n",
      "  copying eunjeon\\data\\libmecab.dll -> build\\lib.win-amd64-3.9\\eunjeon\\data\n",
      "  copying eunjeon\\data\\mecab-cost-train.exe -> build\\lib.win-amd64-3.9\\eunjeon\\data\n",
      "  copying eunjeon\\data\\mecab-dict-gen.exe -> build\\lib.win-amd64-3.9\\eunjeon\\data\n",
      "  copying eunjeon\\data\\mecab-dict-index.exe -> build\\lib.win-amd64-3.9\\eunjeon\\data\n",
      "  copying eunjeon\\data\\mecab-system-eval.exe -> build\\lib.win-amd64-3.9\\eunjeon\\data\n",
      "  copying eunjeon\\data\\mecab-test-gen.exe -> build\\lib.win-amd64-3.9\\eunjeon\\data\n",
      "  copying eunjeon\\data\\mecab.exe -> build\\lib.win-amd64-3.9\\eunjeon\\data\n",
      "  creating build\\lib.win-amd64-3.9\\eunjeon\\data\\sdk\n",
      "  copying eunjeon\\data\\sdk\\libmecab.lib -> build\\lib.win-amd64-3.9\\eunjeon\\data\\sdk\n",
      "  copying eunjeon\\data\\sdk\\mecab-cost-train.lib -> build\\lib.win-amd64-3.9\\eunjeon\\data\\sdk\n",
      "  copying eunjeon\\data\\sdk\\mecab-dict-gen.lib -> build\\lib.win-amd64-3.9\\eunjeon\\data\\sdk\n",
      "  copying eunjeon\\data\\sdk\\mecab-dict-index.lib -> build\\lib.win-amd64-3.9\\eunjeon\\data\\sdk\n",
      "  copying eunjeon\\data\\sdk\\mecab-system-eval.lib -> build\\lib.win-amd64-3.9\\eunjeon\\data\\sdk\n",
      "  copying eunjeon\\data\\sdk\\mecab-test-gen.lib -> build\\lib.win-amd64-3.9\\eunjeon\\data\\sdk\n",
      "  copying eunjeon\\data\\sdk\\mecab.h -> build\\lib.win-amd64-3.9\\eunjeon\\data\\sdk\n",
      "  copying eunjeon\\data\\sdk\\mecab.lib -> build\\lib.win-amd64-3.9\\eunjeon\\data\\sdk\n",
      "  running build_ext\n",
      "  building '_MeCab' extension\n",
      "  error: Microsoft Visual C++ 14.0 or greater is required. Get it with \"Microsoft C++ Build Tools\": https://visualstudio.microsoft.com/visual-cpp-build-tools/\n"
     ]
    },
    {
     "name": "stdout",
     "output_type": "stream",
     "text": [
      "\n",
      "  Downloading eunjeon-0.4.0.tar.gz (34.7 MB)\n",
      "Building wheels for collected packages: eunjeon\n",
      "  Building wheel for eunjeon (setup.py): started\n",
      "  Building wheel for eunjeon (setup.py): finished with status 'error'\n",
      "  Running setup.py clean for eunjeon\n",
      "Failed to build eunjeon\n",
      "Installing collected packages: eunjeon\n",
      "    Running setup.py install for eunjeon: started\n",
      "    Running setup.py install for eunjeon: finished with status 'error'\n"
     ]
    },
    {
     "name": "stderr",
     "output_type": "stream",
     "text": [
      "  ----------------------------------------\n",
      "  ERROR: Failed building wheel for eunjeon\n",
      "    ERROR: Command errored out with exit status 1:\n",
      "     command: 'C:\\Users\\mllab_808\\anaconda3\\python.exe' -u -c 'import io, os, sys, setuptools, tokenize; sys.argv[0] = '\"'\"'C:\\\\Users\\\\mllab_808\\\\AppData\\\\Local\\\\Temp\\\\pip-install-9duik195\\\\eunjeon_faa4635feb594322be7770d4676bcb94\\\\setup.py'\"'\"'; __file__='\"'\"'C:\\\\Users\\\\mllab_808\\\\AppData\\\\Local\\\\Temp\\\\pip-install-9duik195\\\\eunjeon_faa4635feb594322be7770d4676bcb94\\\\setup.py'\"'\"';f = getattr(tokenize, '\"'\"'open'\"'\"', open)(__file__) if os.path.exists(__file__) else io.StringIO('\"'\"'from setuptools import setup; setup()'\"'\"');code = f.read().replace('\"'\"'\\r\\n'\"'\"', '\"'\"'\\n'\"'\"');f.close();exec(compile(code, __file__, '\"'\"'exec'\"'\"'))' install --record 'C:\\Users\\mllab_808\\AppData\\Local\\Temp\\pip-record-r1h35b0a\\install-record.txt' --single-version-externally-managed --compile --install-headers 'C:\\Users\\mllab_808\\anaconda3\\Include\\eunjeon'\n",
      "         cwd: C:\\Users\\mllab_808\\AppData\\Local\\Temp\\pip-install-9duik195\\eunjeon_faa4635feb594322be7770d4676bcb94\\\n",
      "    Complete output (46 lines):\n",
      "    running install\n",
      "    C:\\Users\\mllab_808\\anaconda3\\lib\\site-packages\\setuptools\\command\\install.py:34: SetuptoolsDeprecationWarning: setup.py install is deprecated. Use build and pip and other standards-based tools.\n",
      "      warnings.warn(\n",
      "    running build\n",
      "    running build_py\n",
      "    creating build\n",
      "    creating build\\lib.win-amd64-3.9\n",
      "    creating build\\lib.win-amd64-3.9\\eunjeon\n",
      "    copying eunjeon\\constants.py -> build\\lib.win-amd64-3.9\\eunjeon\n",
      "    copying eunjeon\\mecab.py -> build\\lib.win-amd64-3.9\\eunjeon\n",
      "    copying eunjeon\\_mecab.py -> build\\lib.win-amd64-3.9\\eunjeon\n",
      "    copying eunjeon\\__init__.py -> build\\lib.win-amd64-3.9\\eunjeon\n",
      "    creating build\\lib.win-amd64-3.9\\eunjeon\\data\n",
      "    copying eunjeon\\data\\char.bin -> build\\lib.win-amd64-3.9\\eunjeon\\data\n",
      "    copying eunjeon\\data\\matrix.bin -> build\\lib.win-amd64-3.9\\eunjeon\\data\n",
      "    copying eunjeon\\data\\model.bin -> build\\lib.win-amd64-3.9\\eunjeon\\data\n",
      "    copying eunjeon\\data\\char.def -> build\\lib.win-amd64-3.9\\eunjeon\\data\n",
      "    copying eunjeon\\data\\feature.def -> build\\lib.win-amd64-3.9\\eunjeon\\data\n",
      "    copying eunjeon\\data\\left-id.def -> build\\lib.win-amd64-3.9\\eunjeon\\data\n",
      "    copying eunjeon\\data\\pos-id.def -> build\\lib.win-amd64-3.9\\eunjeon\\data\n",
      "    copying eunjeon\\data\\rewrite.def -> build\\lib.win-amd64-3.9\\eunjeon\\data\n",
      "    copying eunjeon\\data\\right-id.def -> build\\lib.win-amd64-3.9\\eunjeon\\data\n",
      "    copying eunjeon\\data\\unk.def -> build\\lib.win-amd64-3.9\\eunjeon\\data\n",
      "    copying eunjeon\\data\\sys.dic -> build\\lib.win-amd64-3.9\\eunjeon\\data\n",
      "    copying eunjeon\\data\\unk.dic -> build\\lib.win-amd64-3.9\\eunjeon\\data\n",
      "    copying eunjeon\\data\\dicrc -> build\\lib.win-amd64-3.9\\eunjeon\\data\n",
      "    copying eunjeon\\data\\mecabrc -> build\\lib.win-amd64-3.9\\eunjeon\\data\n",
      "    copying eunjeon\\data\\libmecab.dll -> build\\lib.win-amd64-3.9\\eunjeon\\data\n",
      "    copying eunjeon\\data\\mecab-cost-train.exe -> build\\lib.win-amd64-3.9\\eunjeon\\data\n",
      "    copying eunjeon\\data\\mecab-dict-gen.exe -> build\\lib.win-amd64-3.9\\eunjeon\\data\n",
      "    copying eunjeon\\data\\mecab-dict-index.exe -> build\\lib.win-amd64-3.9\\eunjeon\\data\n",
      "    copying eunjeon\\data\\mecab-system-eval.exe -> build\\lib.win-amd64-3.9\\eunjeon\\data\n",
      "    copying eunjeon\\data\\mecab-test-gen.exe -> build\\lib.win-amd64-3.9\\eunjeon\\data\n",
      "    copying eunjeon\\data\\mecab.exe -> build\\lib.win-amd64-3.9\\eunjeon\\data\n",
      "    creating build\\lib.win-amd64-3.9\\eunjeon\\data\\sdk\n",
      "    copying eunjeon\\data\\sdk\\libmecab.lib -> build\\lib.win-amd64-3.9\\eunjeon\\data\\sdk\n",
      "    copying eunjeon\\data\\sdk\\mecab-cost-train.lib -> build\\lib.win-amd64-3.9\\eunjeon\\data\\sdk\n",
      "    copying eunjeon\\data\\sdk\\mecab-dict-gen.lib -> build\\lib.win-amd64-3.9\\eunjeon\\data\\sdk\n",
      "    copying eunjeon\\data\\sdk\\mecab-dict-index.lib -> build\\lib.win-amd64-3.9\\eunjeon\\data\\sdk\n",
      "    copying eunjeon\\data\\sdk\\mecab-system-eval.lib -> build\\lib.win-amd64-3.9\\eunjeon\\data\\sdk\n",
      "    copying eunjeon\\data\\sdk\\mecab-test-gen.lib -> build\\lib.win-amd64-3.9\\eunjeon\\data\\sdk\n",
      "    copying eunjeon\\data\\sdk\\mecab.h -> build\\lib.win-amd64-3.9\\eunjeon\\data\\sdk\n",
      "    copying eunjeon\\data\\sdk\\mecab.lib -> build\\lib.win-amd64-3.9\\eunjeon\\data\\sdk\n",
      "    running build_ext\n",
      "    building '_MeCab' extension\n",
      "    error: Microsoft Visual C++ 14.0 or greater is required. Get it with \"Microsoft C++ Build Tools\": https://visualstudio.microsoft.com/visual-cpp-build-tools/\n",
      "    ----------------------------------------\n",
      "ERROR: Command errored out with exit status 1: 'C:\\Users\\mllab_808\\anaconda3\\python.exe' -u -c 'import io, os, sys, setuptools, tokenize; sys.argv[0] = '\"'\"'C:\\\\Users\\\\mllab_808\\\\AppData\\\\Local\\\\Temp\\\\pip-install-9duik195\\\\eunjeon_faa4635feb594322be7770d4676bcb94\\\\setup.py'\"'\"'; __file__='\"'\"'C:\\\\Users\\\\mllab_808\\\\AppData\\\\Local\\\\Temp\\\\pip-install-9duik195\\\\eunjeon_faa4635feb594322be7770d4676bcb94\\\\setup.py'\"'\"';f = getattr(tokenize, '\"'\"'open'\"'\"', open)(__file__) if os.path.exists(__file__) else io.StringIO('\"'\"'from setuptools import setup; setup()'\"'\"');code = f.read().replace('\"'\"'\\r\\n'\"'\"', '\"'\"'\\n'\"'\"');f.close();exec(compile(code, __file__, '\"'\"'exec'\"'\"'))' install --record 'C:\\Users\\mllab_808\\AppData\\Local\\Temp\\pip-record-r1h35b0a\\install-record.txt' --single-version-externally-managed --compile --install-headers 'C:\\Users\\mllab_808\\anaconda3\\Include\\eunjeon' Check the logs for full command output.\n"
     ]
    }
   ],
   "source": [
    "!pip install eunjeon"
   ]
  },
  {
   "cell_type": "code",
   "execution_count": 3,
   "id": "a8656583-846e-4c23-b4a6-4acbb657c46b",
   "metadata": {},
   "outputs": [
    {
     "ename": "Exception",
     "evalue": "The MeCab dictionary does not exist at \"/usr/local/lib/mecab/dic/mecab-ko-dic\". Is the dictionary correctly installed?\nYou can also try entering the dictionary path when initializing the Mecab class: \"Mecab('/some/dic/path')\"",
     "output_type": "error",
     "traceback": [
      "\u001b[1;31m---------------------------------------------------------------------------\u001b[0m",
      "\u001b[1;31mRuntimeError\u001b[0m                              Traceback (most recent call last)",
      "File \u001b[1;32m~\\anaconda3\\lib\\site-packages\\MeCab\\__init__.py:133\u001b[0m, in \u001b[0;36mTagger.__init__\u001b[1;34m(self, rawargs)\u001b[0m\n\u001b[0;32m    132\u001b[0m \u001b[38;5;28;01mtry\u001b[39;00m:\n\u001b[1;32m--> 133\u001b[0m     \u001b[38;5;28;43msuper\u001b[39;49m\u001b[43m(\u001b[49m\u001b[43mTagger\u001b[49m\u001b[43m,\u001b[49m\u001b[43m \u001b[49m\u001b[38;5;28;43mself\u001b[39;49m\u001b[43m)\u001b[49m\u001b[38;5;241;43m.\u001b[39;49m\u001b[38;5;21;43m__init__\u001b[39;49m\u001b[43m(\u001b[49m\u001b[43margs\u001b[49m\u001b[43m)\u001b[49m\n\u001b[0;32m    134\u001b[0m \u001b[38;5;28;01mexcept\u001b[39;00m \u001b[38;5;167;01mRuntimeError\u001b[39;00m \u001b[38;5;28;01mas\u001b[39;00m ee:\n",
      "\u001b[1;31mRuntimeError\u001b[0m: ",
      "\nThe above exception was the direct cause of the following exception:\n",
      "\u001b[1;31mRuntimeError\u001b[0m                              Traceback (most recent call last)",
      "File \u001b[1;32m~\\anaconda3\\lib\\site-packages\\konlpy\\tag\\_mecab.py:77\u001b[0m, in \u001b[0;36mMecab.__init__\u001b[1;34m(self, dicpath)\u001b[0m\n\u001b[0;32m     76\u001b[0m \u001b[38;5;28;01mtry\u001b[39;00m:\n\u001b[1;32m---> 77\u001b[0m     \u001b[38;5;28mself\u001b[39m\u001b[38;5;241m.\u001b[39mtagger \u001b[38;5;241m=\u001b[39m \u001b[43mTagger\u001b[49m\u001b[43m(\u001b[49m\u001b[38;5;124;43m'\u001b[39;49m\u001b[38;5;124;43m-d \u001b[39;49m\u001b[38;5;132;43;01m%s\u001b[39;49;00m\u001b[38;5;124;43m'\u001b[39;49m\u001b[43m \u001b[49m\u001b[38;5;241;43m%\u001b[39;49m\u001b[43m \u001b[49m\u001b[43mdicpath\u001b[49m\u001b[43m)\u001b[49m\n\u001b[0;32m     78\u001b[0m     \u001b[38;5;28mself\u001b[39m\u001b[38;5;241m.\u001b[39mtagset \u001b[38;5;241m=\u001b[39m utils\u001b[38;5;241m.\u001b[39mread_json(\u001b[38;5;124m'\u001b[39m\u001b[38;5;132;01m%s\u001b[39;00m\u001b[38;5;124m/data/tagset/mecab.json\u001b[39m\u001b[38;5;124m'\u001b[39m \u001b[38;5;241m%\u001b[39m utils\u001b[38;5;241m.\u001b[39minstallpath)\n",
      "File \u001b[1;32m~\\anaconda3\\lib\\site-packages\\MeCab\\__init__.py:135\u001b[0m, in \u001b[0;36mTagger.__init__\u001b[1;34m(self, rawargs)\u001b[0m\n\u001b[0;32m    134\u001b[0m \u001b[38;5;28;01mexcept\u001b[39;00m \u001b[38;5;167;01mRuntimeError\u001b[39;00m \u001b[38;5;28;01mas\u001b[39;00m ee:\n\u001b[1;32m--> 135\u001b[0m     \u001b[38;5;28;01mraise\u001b[39;00m \u001b[38;5;167;01mRuntimeError\u001b[39;00m(error_info(rawargs)) \u001b[38;5;28;01mfrom\u001b[39;00m \u001b[38;5;21;01mee\u001b[39;00m\n",
      "\u001b[1;31mRuntimeError\u001b[0m: \n----------------------------------------------------------\n\nFailed initializing MeCab. Please see the README for possible solutions:\n\n    https://github.com/SamuraiT/mecab-python3#common-issues\n\nIf you are still having trouble, please file an issue here, and include the\nERROR DETAILS below:\n\n    https://github.com/SamuraiT/mecab-python3/issues\n\nissueを英語で書く必要はありません。\n\n------------------- ERROR DETAILS ------------------------\narguments: -d /usr/local/lib/mecab/dic/mecab-ko-dic\n[ifs] no such file or directory: c:\\mecab\\mecabrc\n----------------------------------------------------------\n",
      "\nDuring handling of the above exception, another exception occurred:\n",
      "\u001b[1;31mException\u001b[0m                                 Traceback (most recent call last)",
      "Input \u001b[1;32mIn [3]\u001b[0m, in \u001b[0;36m<cell line: 2>\u001b[1;34m()\u001b[0m\n\u001b[0;32m      1\u001b[0m \u001b[38;5;28;01mfrom\u001b[39;00m \u001b[38;5;21;01mkonlpy\u001b[39;00m\u001b[38;5;21;01m.\u001b[39;00m\u001b[38;5;21;01mtag\u001b[39;00m \u001b[38;5;28;01mimport\u001b[39;00m Mecab\n\u001b[1;32m----> 2\u001b[0m tokenizer \u001b[38;5;241m=\u001b[39m \u001b[43mMecab\u001b[49m\u001b[43m(\u001b[49m\u001b[43m)\u001b[49m\n\u001b[0;32m      3\u001b[0m \u001b[38;5;28mprint\u001b[39m(tokenizer\u001b[38;5;241m.\u001b[39mmorphs(kor_text))\n",
      "File \u001b[1;32m~\\anaconda3\\lib\\site-packages\\konlpy\\tag\\_mecab.py:80\u001b[0m, in \u001b[0;36mMecab.__init__\u001b[1;34m(self, dicpath)\u001b[0m\n\u001b[0;32m     78\u001b[0m     \u001b[38;5;28mself\u001b[39m\u001b[38;5;241m.\u001b[39mtagset \u001b[38;5;241m=\u001b[39m utils\u001b[38;5;241m.\u001b[39mread_json(\u001b[38;5;124m'\u001b[39m\u001b[38;5;132;01m%s\u001b[39;00m\u001b[38;5;124m/data/tagset/mecab.json\u001b[39m\u001b[38;5;124m'\u001b[39m \u001b[38;5;241m%\u001b[39m utils\u001b[38;5;241m.\u001b[39minstallpath)\n\u001b[0;32m     79\u001b[0m \u001b[38;5;28;01mexcept\u001b[39;00m \u001b[38;5;167;01mRuntimeError\u001b[39;00m:\n\u001b[1;32m---> 80\u001b[0m     \u001b[38;5;28;01mraise\u001b[39;00m \u001b[38;5;167;01mException\u001b[39;00m(\u001b[38;5;124m'\u001b[39m\u001b[38;5;124mThe MeCab dictionary does not exist at \u001b[39m\u001b[38;5;124m\"\u001b[39m\u001b[38;5;132;01m%s\u001b[39;00m\u001b[38;5;124m\"\u001b[39m\u001b[38;5;124m. Is the dictionary correctly installed?\u001b[39m\u001b[38;5;130;01m\\n\u001b[39;00m\u001b[38;5;124mYou can also try entering the dictionary path when initializing the Mecab class: \u001b[39m\u001b[38;5;124m\"\u001b[39m\u001b[38;5;124mMecab(\u001b[39m\u001b[38;5;130;01m\\'\u001b[39;00m\u001b[38;5;124m/some/dic/path\u001b[39m\u001b[38;5;130;01m\\'\u001b[39;00m\u001b[38;5;124m)\u001b[39m\u001b[38;5;124m\"\u001b[39m\u001b[38;5;124m'\u001b[39m \u001b[38;5;241m%\u001b[39m dicpath)\n\u001b[0;32m     81\u001b[0m \u001b[38;5;28;01mexcept\u001b[39;00m \u001b[38;5;167;01mNameError\u001b[39;00m:\n\u001b[0;32m     82\u001b[0m     \u001b[38;5;28;01mraise\u001b[39;00m \u001b[38;5;167;01mException\u001b[39;00m(\u001b[38;5;124m'\u001b[39m\u001b[38;5;124mInstall MeCab in order to use it: http://konlpy.org/en/latest/install/\u001b[39m\u001b[38;5;124m'\u001b[39m)\n",
      "\u001b[1;31mException\u001b[0m: The MeCab dictionary does not exist at \"/usr/local/lib/mecab/dic/mecab-ko-dic\". Is the dictionary correctly installed?\nYou can also try entering the dictionary path when initializing the Mecab class: \"Mecab('/some/dic/path')\""
     ]
    }
   ],
   "source": [
    "from konlpy.tag import Mecab\n",
    "tokenizer = Mecab()\n",
    "print(tokenizer.morphs(kor_text))"
   ]
  },
  {
   "cell_type": "code",
   "execution_count": 4,
   "id": "8f11eec0-e0ca-43df-951e-5075a71f84b7",
   "metadata": {},
   "outputs": [],
   "source": [
    "import urllib.request\n",
    "import pandas as pd\n",
    "from konlpy.tag import Mecab\n",
    "from nltk import FreqDist\n",
    "import numpy as np\n",
    "import matplotlib.pyplot as plt"
   ]
  },
  {
   "cell_type": "code",
   "execution_count": 6,
   "id": "e3e8034c-a509-4d8c-872e-1c3a296477d6",
   "metadata": {},
   "outputs": [
    {
     "data": {
      "text/html": [
       "<div>\n",
       "<style scoped>\n",
       "    .dataframe tbody tr th:only-of-type {\n",
       "        vertical-align: middle;\n",
       "    }\n",
       "\n",
       "    .dataframe tbody tr th {\n",
       "        vertical-align: top;\n",
       "    }\n",
       "\n",
       "    .dataframe thead th {\n",
       "        text-align: right;\n",
       "    }\n",
       "</style>\n",
       "<table border=\"1\" class=\"dataframe\">\n",
       "  <thead>\n",
       "    <tr style=\"text-align: right;\">\n",
       "      <th></th>\n",
       "      <th>id</th>\n",
       "      <th>document</th>\n",
       "      <th>label</th>\n",
       "    </tr>\n",
       "  </thead>\n",
       "  <tbody>\n",
       "    <tr>\n",
       "      <th>0</th>\n",
       "      <td>8112052</td>\n",
       "      <td>어릴때보고 지금다시봐도 재밌어요ㅋㅋ</td>\n",
       "      <td>1</td>\n",
       "    </tr>\n",
       "    <tr>\n",
       "      <th>1</th>\n",
       "      <td>8132799</td>\n",
       "      <td>디자인을 배우는 학생으로, 외국디자이너와 그들이 일군 전통을 통해 발전해가는 문화산...</td>\n",
       "      <td>1</td>\n",
       "    </tr>\n",
       "    <tr>\n",
       "      <th>2</th>\n",
       "      <td>4655635</td>\n",
       "      <td>폴리스스토리 시리즈는 1부터 뉴까지 버릴께 하나도 없음.. 최고.</td>\n",
       "      <td>1</td>\n",
       "    </tr>\n",
       "    <tr>\n",
       "      <th>3</th>\n",
       "      <td>9251303</td>\n",
       "      <td>와.. 연기가 진짜 개쩔구나.. 지루할거라고 생각했는데 몰입해서 봤다.. 그래 이런...</td>\n",
       "      <td>1</td>\n",
       "    </tr>\n",
       "    <tr>\n",
       "      <th>4</th>\n",
       "      <td>10067386</td>\n",
       "      <td>안개 자욱한 밤하늘에 떠 있는 초승달 같은 영화.</td>\n",
       "      <td>1</td>\n",
       "    </tr>\n",
       "    <tr>\n",
       "      <th>5</th>\n",
       "      <td>2190435</td>\n",
       "      <td>사랑을 해본사람이라면 처음부터 끝까지 웃을수 있는영화</td>\n",
       "      <td>1</td>\n",
       "    </tr>\n",
       "    <tr>\n",
       "      <th>6</th>\n",
       "      <td>9279041</td>\n",
       "      <td>완전 감동입니다 다시봐도 감동</td>\n",
       "      <td>1</td>\n",
       "    </tr>\n",
       "    <tr>\n",
       "      <th>7</th>\n",
       "      <td>7865729</td>\n",
       "      <td>개들의 전쟁2 나오나요? 나오면 1빠로 보고 싶음</td>\n",
       "      <td>1</td>\n",
       "    </tr>\n",
       "    <tr>\n",
       "      <th>8</th>\n",
       "      <td>7477618</td>\n",
       "      <td>굿</td>\n",
       "      <td>1</td>\n",
       "    </tr>\n",
       "    <tr>\n",
       "      <th>9</th>\n",
       "      <td>9250537</td>\n",
       "      <td>바보가 아니라 병 쉰 인듯</td>\n",
       "      <td>1</td>\n",
       "    </tr>\n",
       "  </tbody>\n",
       "</table>\n",
       "</div>"
      ],
      "text/plain": [
       "         id                                           document  label\n",
       "0   8112052                                어릴때보고 지금다시봐도 재밌어요ㅋㅋ      1\n",
       "1   8132799  디자인을 배우는 학생으로, 외국디자이너와 그들이 일군 전통을 통해 발전해가는 문화산...      1\n",
       "2   4655635               폴리스스토리 시리즈는 1부터 뉴까지 버릴께 하나도 없음.. 최고.      1\n",
       "3   9251303  와.. 연기가 진짜 개쩔구나.. 지루할거라고 생각했는데 몰입해서 봤다.. 그래 이런...      1\n",
       "4  10067386                        안개 자욱한 밤하늘에 떠 있는 초승달 같은 영화.      1\n",
       "5   2190435                      사랑을 해본사람이라면 처음부터 끝까지 웃을수 있는영화      1\n",
       "6   9279041                                   완전 감동입니다 다시봐도 감동      1\n",
       "7   7865729                        개들의 전쟁2 나오나요? 나오면 1빠로 보고 싶음      1\n",
       "8   7477618                                                  굿      1\n",
       "9   9250537                                     바보가 아니라 병 쉰 인듯      1"
      ]
     },
     "execution_count": 6,
     "metadata": {},
     "output_type": "execute_result"
    }
   ],
   "source": [
    "urllib.request.urlretrieve(\"https://raw.githubusercontent.com/e9t/nsmc/master/ratings.txt\", filename=\"ratings.txt\")\n",
    "data = pd.read_table('ratings.txt') # 데이터프레임에 저장\n",
    "data[:10]"
   ]
  },
  {
   "cell_type": "code",
   "execution_count": 7,
   "id": "c1b92619-96c3-4297-8bcf-95eb1694e770",
   "metadata": {},
   "outputs": [
    {
     "name": "stdout",
     "output_type": "stream",
     "text": [
      "전체 샘플의 수 : 200000\n"
     ]
    }
   ],
   "source": [
    "print('전체 샘플의 수 : {}'.format(len(data)))"
   ]
  },
  {
   "cell_type": "code",
   "execution_count": 8,
   "id": "0e41b47b-f351-4eb5-8374-f52abc1b9d0e",
   "metadata": {},
   "outputs": [],
   "source": [
    "sample_data = data[:100] # 임의로 100개만 저장"
   ]
  },
  {
   "cell_type": "code",
   "execution_count": 9,
   "id": "d5c6640e-bfa8-41bd-b7a2-8f1d5e08feb9",
   "metadata": {},
   "outputs": [
    {
     "name": "stderr",
     "output_type": "stream",
     "text": [
      "C:\\Users\\mllab_808\\AppData\\Local\\Temp\\ipykernel_15712\\2699575776.py:1: FutureWarning: The default value of regex will change from True to False in a future version.\n",
      "  sample_data['document'] = sample_data['document'].str.replace(\"[^ㄱ-ㅎㅏ-ㅣ가-힣 ]\",\"\")\n",
      "C:\\Users\\mllab_808\\AppData\\Local\\Temp\\ipykernel_15712\\2699575776.py:1: SettingWithCopyWarning: \n",
      "A value is trying to be set on a copy of a slice from a DataFrame.\n",
      "Try using .loc[row_indexer,col_indexer] = value instead\n",
      "\n",
      "See the caveats in the documentation: https://pandas.pydata.org/pandas-docs/stable/user_guide/indexing.html#returning-a-view-versus-a-copy\n",
      "  sample_data['document'] = sample_data['document'].str.replace(\"[^ㄱ-ㅎㅏ-ㅣ가-힣 ]\",\"\")\n"
     ]
    },
    {
     "data": {
      "text/html": [
       "<div>\n",
       "<style scoped>\n",
       "    .dataframe tbody tr th:only-of-type {\n",
       "        vertical-align: middle;\n",
       "    }\n",
       "\n",
       "    .dataframe tbody tr th {\n",
       "        vertical-align: top;\n",
       "    }\n",
       "\n",
       "    .dataframe thead th {\n",
       "        text-align: right;\n",
       "    }\n",
       "</style>\n",
       "<table border=\"1\" class=\"dataframe\">\n",
       "  <thead>\n",
       "    <tr style=\"text-align: right;\">\n",
       "      <th></th>\n",
       "      <th>id</th>\n",
       "      <th>document</th>\n",
       "      <th>label</th>\n",
       "    </tr>\n",
       "  </thead>\n",
       "  <tbody>\n",
       "    <tr>\n",
       "      <th>0</th>\n",
       "      <td>8112052</td>\n",
       "      <td>어릴때보고 지금다시봐도 재밌어요ㅋㅋ</td>\n",
       "      <td>1</td>\n",
       "    </tr>\n",
       "    <tr>\n",
       "      <th>1</th>\n",
       "      <td>8132799</td>\n",
       "      <td>디자인을 배우는 학생으로 외국디자이너와 그들이 일군 전통을 통해 발전해가는 문화산업...</td>\n",
       "      <td>1</td>\n",
       "    </tr>\n",
       "    <tr>\n",
       "      <th>2</th>\n",
       "      <td>4655635</td>\n",
       "      <td>폴리스스토리 시리즈는 부터 뉴까지 버릴께 하나도 없음 최고</td>\n",
       "      <td>1</td>\n",
       "    </tr>\n",
       "    <tr>\n",
       "      <th>3</th>\n",
       "      <td>9251303</td>\n",
       "      <td>와 연기가 진짜 개쩔구나 지루할거라고 생각했는데 몰입해서 봤다 그래 이런게 진짜 영화지</td>\n",
       "      <td>1</td>\n",
       "    </tr>\n",
       "    <tr>\n",
       "      <th>4</th>\n",
       "      <td>10067386</td>\n",
       "      <td>안개 자욱한 밤하늘에 떠 있는 초승달 같은 영화</td>\n",
       "      <td>1</td>\n",
       "    </tr>\n",
       "    <tr>\n",
       "      <th>5</th>\n",
       "      <td>2190435</td>\n",
       "      <td>사랑을 해본사람이라면 처음부터 끝까지 웃을수 있는영화</td>\n",
       "      <td>1</td>\n",
       "    </tr>\n",
       "    <tr>\n",
       "      <th>6</th>\n",
       "      <td>9279041</td>\n",
       "      <td>완전 감동입니다 다시봐도 감동</td>\n",
       "      <td>1</td>\n",
       "    </tr>\n",
       "    <tr>\n",
       "      <th>7</th>\n",
       "      <td>7865729</td>\n",
       "      <td>개들의 전쟁 나오나요 나오면 빠로 보고 싶음</td>\n",
       "      <td>1</td>\n",
       "    </tr>\n",
       "    <tr>\n",
       "      <th>8</th>\n",
       "      <td>7477618</td>\n",
       "      <td>굿</td>\n",
       "      <td>1</td>\n",
       "    </tr>\n",
       "    <tr>\n",
       "      <th>9</th>\n",
       "      <td>9250537</td>\n",
       "      <td>바보가 아니라 병 쉰 인듯</td>\n",
       "      <td>1</td>\n",
       "    </tr>\n",
       "  </tbody>\n",
       "</table>\n",
       "</div>"
      ],
      "text/plain": [
       "         id                                           document  label\n",
       "0   8112052                                어릴때보고 지금다시봐도 재밌어요ㅋㅋ      1\n",
       "1   8132799  디자인을 배우는 학생으로 외국디자이너와 그들이 일군 전통을 통해 발전해가는 문화산업...      1\n",
       "2   4655635                   폴리스스토리 시리즈는 부터 뉴까지 버릴께 하나도 없음 최고      1\n",
       "3   9251303   와 연기가 진짜 개쩔구나 지루할거라고 생각했는데 몰입해서 봤다 그래 이런게 진짜 영화지      1\n",
       "4  10067386                         안개 자욱한 밤하늘에 떠 있는 초승달 같은 영화      1\n",
       "5   2190435                      사랑을 해본사람이라면 처음부터 끝까지 웃을수 있는영화      1\n",
       "6   9279041                                   완전 감동입니다 다시봐도 감동      1\n",
       "7   7865729                           개들의 전쟁 나오나요 나오면 빠로 보고 싶음      1\n",
       "8   7477618                                                  굿      1\n",
       "9   9250537                                     바보가 아니라 병 쉰 인듯      1"
      ]
     },
     "execution_count": 9,
     "metadata": {},
     "output_type": "execute_result"
    }
   ],
   "source": [
    "sample_data['document'] = sample_data['document'].str.replace(\"[^ㄱ-ㅎㅏ-ㅣ가-힣 ]\",\"\")\n",
    "# 한글과 공백을 제외하고 모두 제거\n",
    "sample_data[:10]"
   ]
  },
  {
   "cell_type": "code",
   "execution_count": 10,
   "id": "87003f2b-7884-494b-bdb5-5e5394f731c6",
   "metadata": {},
   "outputs": [],
   "source": [
    "# 불용어 정의\n",
    "stopwords=['의','가','이','은','들','는','좀','잘','걍','과','도','를','으로','자','에','와','한','하다']"
   ]
  },
  {
   "cell_type": "code",
   "execution_count": null,
   "id": "e737bb1e-d65c-4e57-8c1c-f2f3191c154e",
   "metadata": {},
   "outputs": [],
   "source": []
  }
 ],
 "metadata": {
  "kernelspec": {
   "display_name": "Python 3 (ipykernel)",
   "language": "python",
   "name": "python3"
  },
  "language_info": {
   "codemirror_mode": {
    "name": "ipython",
    "version": 3
   },
   "file_extension": ".py",
   "mimetype": "text/x-python",
   "name": "python",
   "nbconvert_exporter": "python",
   "pygments_lexer": "ipython3",
   "version": "3.9.12"
  }
 },
 "nbformat": 4,
 "nbformat_minor": 5
}
