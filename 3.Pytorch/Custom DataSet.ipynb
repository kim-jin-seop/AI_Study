{
 "cells": [
  {
   "cell_type": "code",
   "execution_count": 1,
   "id": "7d3e2730",
   "metadata": {},
   "outputs": [],
   "source": [
    "import torch\n",
    "import torch.nn.functional as F"
   ]
  },
  {
   "cell_type": "code",
   "execution_count": 2,
   "id": "6a37f2db",
   "metadata": {},
   "outputs": [],
   "source": [
    "from torch.utils.data import Dataset\n",
    "from torch.utils.data import DataLoader"
   ]
  },
  {
   "cell_type": "code",
   "execution_count": 3,
   "id": "61b0a3ce",
   "metadata": {},
   "outputs": [],
   "source": [
    "class CustomDataset(Dataset):\n",
    "    def __init__(self):\n",
    "        self.X_data = [[73, 80, 75],\n",
    "                   [93, 88, 93],\n",
    "                   [89, 91, 90],\n",
    "                   [96, 98, 100],\n",
    "                   [73, 66, 70]]\n",
    "        self.y_data = [[152], [185], [180], [196], [142]]\n",
    "        \n",
    "    def __len__(self):\n",
    "        return len(self.X_data)\n",
    "        \n",
    "    def __getitem__(self, idx):\n",
    "        x = torch.FloatTensor(self.X_data[idx])\n",
    "        y = torch.FloatTensor(self.y_data[idx])\n",
    "        return x,y"
   ]
  },
  {
   "cell_type": "code",
   "execution_count": 4,
   "id": "5c732204",
   "metadata": {},
   "outputs": [],
   "source": [
    "dataset = CustomDataset()\n",
    "dataloader = DataLoader(dataset, batch_size=2, shuffle=True)"
   ]
  },
  {
   "cell_type": "code",
   "execution_count": 5,
   "id": "90926f4f",
   "metadata": {},
   "outputs": [],
   "source": [
    "model = torch.nn.Linear(3,1)\n",
    "optimizer = torch.optim.SGD(model.parameters(),lr=1e-5)"
   ]
  },
  {
   "cell_type": "code",
   "execution_count": 6,
   "id": "b23698b1",
   "metadata": {},
   "outputs": [
    {
     "name": "stdout",
     "output_type": "stream",
     "text": [
      "Epoch    0/20 Batch 1/3 Cost: 10125.767578\n",
      "Epoch    0/20 Batch 2/3 Cost: 7753.400391\n",
      "Epoch    0/20 Batch 3/3 Cost: 1487.708984\n",
      "Epoch    1/20 Batch 1/3 Cost: 401.266815\n",
      "Epoch    1/20 Batch 2/3 Cost: 88.452400\n",
      "Epoch    1/20 Batch 3/3 Cost: 41.560543\n",
      "Epoch    2/20 Batch 1/3 Cost: 10.582594\n",
      "Epoch    2/20 Batch 2/3 Cost: 4.416597\n",
      "Epoch    2/20 Batch 3/3 Cost: 0.393032\n",
      "Epoch    3/20 Batch 1/3 Cost: 0.150393\n",
      "Epoch    3/20 Batch 2/3 Cost: 1.523184\n",
      "Epoch    3/20 Batch 3/3 Cost: 0.085028\n",
      "Epoch    4/20 Batch 1/3 Cost: 0.021857\n",
      "Epoch    4/20 Batch 2/3 Cost: 1.203211\n",
      "Epoch    4/20 Batch 3/3 Cost: 0.146172\n",
      "Epoch    5/20 Batch 1/3 Cost: 1.093861\n",
      "Epoch    5/20 Batch 2/3 Cost: 0.192621\n",
      "Epoch    5/20 Batch 3/3 Cost: 0.070719\n",
      "Epoch    6/20 Batch 1/3 Cost: 1.177103\n",
      "Epoch    6/20 Batch 2/3 Cost: 0.154758\n",
      "Epoch    6/20 Batch 3/3 Cost: 0.043604\n",
      "Epoch    7/20 Batch 1/3 Cost: 1.192347\n",
      "Epoch    7/20 Batch 2/3 Cost: 0.147784\n",
      "Epoch    7/20 Batch 3/3 Cost: 0.060712\n",
      "Epoch    8/20 Batch 1/3 Cost: 0.021540\n",
      "Epoch    8/20 Batch 2/3 Cost: 0.006427\n",
      "Epoch    8/20 Batch 3/3 Cost: 2.534643\n",
      "Epoch    9/20 Batch 1/3 Cost: 0.737366\n",
      "Epoch    9/20 Batch 2/3 Cost: 0.635899\n",
      "Epoch    9/20 Batch 3/3 Cost: 0.151184\n",
      "Epoch   10/20 Batch 1/3 Cost: 0.032073\n",
      "Epoch   10/20 Batch 2/3 Cost: 0.025243\n",
      "Epoch   10/20 Batch 3/3 Cost: 2.507025\n",
      "Epoch   11/20 Batch 1/3 Cost: 0.733160\n",
      "Epoch   11/20 Batch 2/3 Cost: 0.641069\n",
      "Epoch   11/20 Batch 3/3 Cost: 0.152898\n",
      "Epoch   12/20 Batch 1/3 Cost: 1.095700\n",
      "Epoch   12/20 Batch 2/3 Cost: 0.182412\n",
      "Epoch   12/20 Batch 3/3 Cost: 0.016218\n",
      "Epoch   13/20 Batch 1/3 Cost: 1.108894\n",
      "Epoch   13/20 Batch 2/3 Cost: 0.176382\n",
      "Epoch   13/20 Batch 3/3 Cost: 0.014927\n",
      "Epoch   14/20 Batch 1/3 Cost: 1.100229\n",
      "Epoch   14/20 Batch 2/3 Cost: 0.142045\n",
      "Epoch   14/20 Batch 3/3 Cost: 0.115411\n",
      "Epoch   15/20 Batch 1/3 Cost: 1.186843\n",
      "Epoch   15/20 Batch 2/3 Cost: 0.174687\n",
      "Epoch   15/20 Batch 3/3 Cost: 0.088597\n",
      "Epoch   16/20 Batch 1/3 Cost: 1.208076\n",
      "Epoch   16/20 Batch 2/3 Cost: 0.203405\n",
      "Epoch   16/20 Batch 3/3 Cost: 0.051137\n",
      "Epoch   17/20 Batch 1/3 Cost: 0.015213\n",
      "Epoch   17/20 Batch 2/3 Cost: 1.276198\n",
      "Epoch   17/20 Batch 3/3 Cost: 0.049237\n",
      "Epoch   18/20 Batch 1/3 Cost: 0.033941\n",
      "Epoch   18/20 Batch 2/3 Cost: 0.038870\n",
      "Epoch   18/20 Batch 3/3 Cost: 2.477156\n",
      "Epoch   19/20 Batch 1/3 Cost: 0.701591\n",
      "Epoch   19/20 Batch 2/3 Cost: 0.529759\n",
      "Epoch   19/20 Batch 3/3 Cost: 0.281109\n",
      "Epoch   20/20 Batch 1/3 Cost: 1.104101\n",
      "Epoch   20/20 Batch 2/3 Cost: 0.136325\n",
      "Epoch   20/20 Batch 3/3 Cost: 0.114005\n"
     ]
    }
   ],
   "source": [
    "nb_epochs = 20\n",
    "for epoch in range(nb_epochs + 1):\n",
    "    for batch_idx, samples in enumerate(dataloader):\n",
    "        x_train, y_train = samples\n",
    "        \n",
    "        prediction = model(x_train)\n",
    "        cost = F.mse_loss(prediction, y_train)\n",
    "        \n",
    "        optimizer.zero_grad()\n",
    "        cost.backward()\n",
    "        optimizer.step()\n",
    "        \n",
    "        print('Epoch {:4d}/{} Batch {}/{} Cost: {:.6f}'.format(\n",
    "        epoch, nb_epochs, batch_idx+1, len(dataloader),\n",
    "        cost.item()\n",
    "        ))"
   ]
  },
  {
   "cell_type": "code",
   "execution_count": 7,
   "id": "0e626605",
   "metadata": {},
   "outputs": [
    {
     "name": "stdout",
     "output_type": "stream",
     "text": [
      "훈련 후 입력이 73, 80, 75일 때의 예측값 : tensor([[150.4619]], grad_fn=<AddmmBackward0>)\n"
     ]
    }
   ],
   "source": [
    "new_var = torch.FloatTensor([[73,80,75]])\n",
    "pred_y = model(new_var)\n",
    "print(\"훈련 후 입력이 73, 80, 75일 때의 예측값 :\", pred_y) "
   ]
  },
  {
   "cell_type": "code",
   "execution_count": null,
   "id": "bd301d29",
   "metadata": {},
   "outputs": [],
   "source": []
  }
 ],
 "metadata": {
  "kernelspec": {
   "display_name": "Python 3 (ipykernel)",
   "language": "python",
   "name": "python3"
  },
  "language_info": {
   "codemirror_mode": {
    "name": "ipython",
    "version": 3
   },
   "file_extension": ".py",
   "mimetype": "text/x-python",
   "name": "python",
   "nbconvert_exporter": "python",
   "pygments_lexer": "ipython3",
   "version": "3.9.12"
  }
 },
 "nbformat": 4,
 "nbformat_minor": 5
}
