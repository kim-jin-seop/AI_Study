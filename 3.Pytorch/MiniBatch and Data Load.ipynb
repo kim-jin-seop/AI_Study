{
 "cells": [
  {
   "cell_type": "code",
   "execution_count": 1,
   "id": "b168eea6",
   "metadata": {},
   "outputs": [],
   "source": [
    "import torch\n",
    "import torch.nn as nn \n",
    "import torch.nn.functional as F"
   ]
  },
  {
   "cell_type": "code",
   "execution_count": 2,
   "id": "f93f422d",
   "metadata": {},
   "outputs": [],
   "source": [
    "from torch.utils.data import TensorDataset\n",
    "from torch.utils.data import DataLoader"
   ]
  },
  {
   "cell_type": "code",
   "execution_count": 3,
   "id": "94164460",
   "metadata": {},
   "outputs": [],
   "source": [
    "x_train  =  torch.FloatTensor([[73,  80,  75], \n",
    "                               [93,  88,  93], \n",
    "                               [89,  91,  90], \n",
    "                               [96,  98,  100],   \n",
    "                               [73,  66,  70]])  \n",
    "y_train  =  torch.FloatTensor([[152],  [185],  [180],  [196],  [142]])"
   ]
  },
  {
   "cell_type": "code",
   "execution_count": 4,
   "id": "35a3cb6b",
   "metadata": {},
   "outputs": [],
   "source": [
    "dataset = TensorDataset(x_train, y_train)"
   ]
  },
  {
   "cell_type": "code",
   "execution_count": 5,
   "id": "c70869cb",
   "metadata": {},
   "outputs": [],
   "source": [
    "dataloader = DataLoader(dataset, batch_size=2, shuffle=True)"
   ]
  },
  {
   "cell_type": "code",
   "execution_count": 6,
   "id": "1c9719b6",
   "metadata": {},
   "outputs": [],
   "source": [
    "model = nn.Linear(3,1)\n",
    "optimizer = torch.optim.SGD(model.parameters(),lr= 1e-5)"
   ]
  },
  {
   "cell_type": "code",
   "execution_count": 7,
   "id": "d61771e2",
   "metadata": {},
   "outputs": [
    {
     "name": "stdout",
     "output_type": "stream",
     "text": [
      "Epoch    0/20 Batch 1/3 Cost: 52347.257812\n",
      "Epoch    0/20 Batch 2/3 Cost: 40864.445312\n",
      "Epoch    0/20 Batch 3/3 Cost: 7611.589355\n",
      "Epoch    1/20 Batch 1/3 Cost: 2201.231201\n",
      "Epoch    1/20 Batch 2/3 Cost: 444.150269\n",
      "Epoch    1/20 Batch 3/3 Cost: 150.779251\n",
      "Epoch    2/20 Batch 1/3 Cost: 61.251114\n",
      "Epoch    2/20 Batch 2/3 Cost: 24.748468\n",
      "Epoch    2/20 Batch 3/3 Cost: 2.587927\n",
      "Epoch    3/20 Batch 1/3 Cost: 7.462232\n",
      "Epoch    3/20 Batch 2/3 Cost: 3.723891\n",
      "Epoch    3/20 Batch 3/3 Cost: 0.650029\n",
      "Epoch    4/20 Batch 1/3 Cost: 5.068472\n",
      "Epoch    4/20 Batch 2/3 Cost: 2.579424\n",
      "Epoch    4/20 Batch 3/3 Cost: 1.348832\n",
      "Epoch    5/20 Batch 1/3 Cost: 4.831028\n",
      "Epoch    5/20 Batch 2/3 Cost: 2.460914\n",
      "Epoch    5/20 Batch 3/3 Cost: 1.360874\n",
      "Epoch    6/20 Batch 1/3 Cost: 4.444477\n",
      "Epoch    6/20 Batch 2/3 Cost: 2.662271\n",
      "Epoch    6/20 Batch 3/3 Cost: 1.475697\n",
      "Epoch    7/20 Batch 1/3 Cost: 4.398818\n",
      "Epoch    7/20 Batch 2/3 Cost: 1.322132\n",
      "Epoch    7/20 Batch 3/3 Cost: 5.904716\n",
      "Epoch    8/20 Batch 1/3 Cost: 3.586596\n",
      "Epoch    8/20 Batch 2/3 Cost: 3.209698\n",
      "Epoch    8/20 Batch 3/3 Cost: 4.362282\n",
      "Epoch    9/20 Batch 1/3 Cost: 3.733922\n",
      "Epoch    9/20 Batch 2/3 Cost: 5.230749\n",
      "Epoch    9/20 Batch 3/3 Cost: 4.261147\n",
      "Epoch   10/20 Batch 1/3 Cost: 1.048065\n",
      "Epoch   10/20 Batch 2/3 Cost: 7.882582\n",
      "Epoch   10/20 Batch 3/3 Cost: 2.577481\n",
      "Epoch   11/20 Batch 1/3 Cost: 2.540351\n",
      "Epoch   11/20 Batch 2/3 Cost: 3.789141\n",
      "Epoch   11/20 Batch 3/3 Cost: 2.287924\n",
      "Epoch   12/20 Batch 1/3 Cost: 4.278047\n",
      "Epoch   12/20 Batch 2/3 Cost: 2.591754\n",
      "Epoch   12/20 Batch 3/3 Cost: 1.534701\n",
      "Epoch   13/20 Batch 1/3 Cost: 4.354198\n",
      "Epoch   13/20 Batch 2/3 Cost: 1.350116\n",
      "Epoch   13/20 Batch 3/3 Cost: 5.930179\n",
      "Epoch   14/20 Batch 1/3 Cost: 2.870396\n",
      "Epoch   14/20 Batch 2/3 Cost: 6.067697\n",
      "Epoch   14/20 Batch 3/3 Cost: 1.479592\n",
      "Epoch   15/20 Batch 1/3 Cost: 2.810720\n",
      "Epoch   15/20 Batch 2/3 Cost: 4.122542\n",
      "Epoch   15/20 Batch 3/3 Cost: 1.567578\n",
      "Epoch   16/20 Batch 1/3 Cost: 6.700426\n",
      "Epoch   16/20 Batch 2/3 Cost: 3.283355\n",
      "Epoch   16/20 Batch 3/3 Cost: 0.883719\n",
      "Epoch   17/20 Batch 1/3 Cost: 3.172160\n",
      "Epoch   17/20 Batch 2/3 Cost: 1.170674\n",
      "Epoch   17/20 Batch 3/3 Cost: 9.123007\n",
      "Epoch   18/20 Batch 1/3 Cost: 2.759846\n",
      "Epoch   18/20 Batch 2/3 Cost: 4.028560\n",
      "Epoch   18/20 Batch 3/3 Cost: 3.151524\n",
      "Epoch   19/20 Batch 1/3 Cost: 4.406948\n",
      "Epoch   19/20 Batch 2/3 Cost: 2.297076\n",
      "Epoch   19/20 Batch 3/3 Cost: 5.775875\n",
      "Epoch   20/20 Batch 1/3 Cost: 3.984740\n",
      "Epoch   20/20 Batch 2/3 Cost: 2.261460\n",
      "Epoch   20/20 Batch 3/3 Cost: 3.254199\n"
     ]
    }
   ],
   "source": [
    "nb_epochs = 20\n",
    "for epoch in range(nb_epochs + 1):\n",
    "    for batch_idx, samples in enumerate(dataloader):\n",
    "        x_train, y_train = samples\n",
    "        prediction = model(x_train)\n",
    "        \n",
    "        cost = F.mse_loss(prediction, y_train)\n",
    "        \n",
    "        optimizer.zero_grad()\n",
    "        cost.backward()\n",
    "        optimizer.step()\n",
    "        \n",
    "        print('Epoch {:4d}/{} Batch {}/{} Cost: {:.6f}'.format(\n",
    "        epoch, nb_epochs, batch_idx+1, len(dataloader),\n",
    "        cost.item()\n",
    "        ))"
   ]
  },
  {
   "cell_type": "code",
   "execution_count": 8,
   "id": "fe860bb4",
   "metadata": {},
   "outputs": [
    {
     "name": "stdout",
     "output_type": "stream",
     "text": [
      "훈련 후 입력이 73, 80, 75일 때의 예측값 : tensor([[153.1778]], grad_fn=<AddmmBackward0>)\n"
     ]
    }
   ],
   "source": [
    "new_var =  torch.FloatTensor([[73, 80, 75]]) \n",
    "pred_y = model(new_var) \n",
    "print(\"훈련 후 입력이 73, 80, 75일 때의 예측값 :\", pred_y) "
   ]
  },
  {
   "cell_type": "code",
   "execution_count": null,
   "id": "69f486dd",
   "metadata": {},
   "outputs": [],
   "source": []
  }
 ],
 "metadata": {
  "kernelspec": {
   "display_name": "Python 3 (ipykernel)",
   "language": "python",
   "name": "python3"
  },
  "language_info": {
   "codemirror_mode": {
    "name": "ipython",
    "version": 3
   },
   "file_extension": ".py",
   "mimetype": "text/x-python",
   "name": "python",
   "nbconvert_exporter": "python",
   "pygments_lexer": "ipython3",
   "version": "3.9.12"
  }
 },
 "nbformat": 4,
 "nbformat_minor": 5
}
