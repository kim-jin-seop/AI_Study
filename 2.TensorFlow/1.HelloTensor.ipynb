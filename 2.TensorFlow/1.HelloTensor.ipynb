{
 "cells": [
  {
   "cell_type": "markdown",
   "id": "e0bf2cf8",
   "metadata": {},
   "source": [
    "# Hello Tensor"
   ]
  },
  {
   "cell_type": "code",
   "execution_count": 1,
   "id": "46086c5f",
   "metadata": {},
   "outputs": [],
   "source": [
    "import tensorflow as tf"
   ]
  },
  {
   "cell_type": "code",
   "execution_count": 2,
   "id": "baa64418",
   "metadata": {},
   "outputs": [
    {
     "data": {
      "text/plain": [
       "'2.9.1'"
      ]
     },
     "execution_count": 2,
     "metadata": {},
     "output_type": "execute_result"
    }
   ],
   "source": [
    "tf.__version__"
   ]
  },
  {
   "cell_type": "code",
   "execution_count": 3,
   "id": "c816538f",
   "metadata": {},
   "outputs": [
    {
     "name": "stdout",
     "output_type": "stream",
     "text": [
      "Hello! TensorFlow!\n"
     ]
    },
    {
     "name": "stderr",
     "output_type": "stream",
     "text": [
      "2022-05-31 07:44:44.944592: I tensorflow/core/platform/cpu_feature_guard.cc:193] This TensorFlow binary is optimized with oneAPI Deep Neural Network Library (oneDNN) to use the following CPU instructions in performance-critical operations:  AVX2 FMA\n",
      "To enable them in other operations, rebuild TensorFlow with the appropriate compiler flags.\n"
     ]
    }
   ],
   "source": [
    "hello = tf.constant(\"Hello! TensorFlow!\")\n",
    "tf.print(hello)"
   ]
  },
  {
   "cell_type": "markdown",
   "id": "4db3a0bc",
   "metadata": {},
   "source": [
    "# Node 더하기"
   ]
  },
  {
   "cell_type": "code",
   "execution_count": 4,
   "id": "8d8e2bcc",
   "metadata": {},
   "outputs": [],
   "source": [
    "node1 = tf.constant(3.0, tf.float32)\n",
    "node2 = tf.constant(4.0)\n",
    "node3 = tf.add(node1, node2) #node1 + node2"
   ]
  },
  {
   "cell_type": "code",
   "execution_count": 5,
   "id": "a2f7ca5f",
   "metadata": {},
   "outputs": [
    {
     "name": "stdout",
     "output_type": "stream",
     "text": [
      "node1 :  tf.Tensor(3.0, shape=(), dtype=float32)\n",
      "node2 :  tf.Tensor(4.0, shape=(), dtype=float32)\n",
      "node3 :  tf.Tensor(7.0, shape=(), dtype=float32)\n"
     ]
    }
   ],
   "source": [
    "print(\"node1 : \", node1)\n",
    "print(\"node2 : \", node2)\n",
    "print(\"node3 : \", node3)"
   ]
  },
  {
   "cell_type": "code",
   "execution_count": 6,
   "id": "5995db1f",
   "metadata": {},
   "outputs": [
    {
     "name": "stdout",
     "output_type": "stream",
     "text": [
      "3\n",
      "4\n",
      "7\n"
     ]
    }
   ],
   "source": [
    "tf.print(node1)\n",
    "tf.print(node2)\n",
    "tf.print(node3)"
   ]
  },
  {
   "cell_type": "markdown",
   "id": "4635a73c",
   "metadata": {},
   "source": [
    "# function"
   ]
  },
  {
   "cell_type": "code",
   "execution_count": 7,
   "id": "51fa9877",
   "metadata": {},
   "outputs": [],
   "source": [
    "@tf.function\n",
    "def add(a, b):\n",
    "    return a + b"
   ]
  }
 ],
 "metadata": {
  "kernelspec": {
   "display_name": "Python 3 (ipykernel)",
   "language": "python",
   "name": "python3"
  },
  "language_info": {
   "codemirror_mode": {
    "name": "ipython",
    "version": 3
   },
   "file_extension": ".py",
   "mimetype": "text/x-python",
   "name": "python",
   "nbconvert_exporter": "python",
   "pygments_lexer": "ipython3",
   "version": "3.9.12"
  }
 },
 "nbformat": 4,
 "nbformat_minor": 5
}
